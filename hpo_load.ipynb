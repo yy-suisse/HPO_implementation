{
 "cells": [
  {
   "cell_type": "code",
   "execution_count": 1,
   "id": "ae6f9f0b",
   "metadata": {},
   "outputs": [],
   "source": [
    "# download link: https://github.com/obophenotype/human-phenotype-ontology/releases\n",
    "\n",
    "import obonet\n",
    "import pandas as pd\n",
    "import polars as pl\n",
    "\n",
    "# Load ontology\n",
    "graph = obonet.read_obo(\"docs/hp.obo\")\n",
    "\n",
    "# Load phenotype-disease mappings\n",
    "df_hpoa = pd.read_csv(\n",
    "    \"docs/phenotype.hpoa\",\n",
    "    sep=\"\\t\",\n",
    "    comment=\"#\",\n",
    "    dtype=str,\n",
    ")\n",
    "df_hpoa = pl.from_pandas(df_hpoa)\n",
    "\n",
    "\n",
    "# Load phenotype-gene mappings\n",
    "df_genes = pd.read_csv(\n",
    "    \"docs/phenotype_to_genes.txt\",\n",
    "    sep=\"\\t\",\n",
    "    comment=\"#\",\n",
    "    dtype=str,\n",
    ")\n",
    "df_genes = pl.from_pandas(df_genes)\n",
    "\n"
   ]
  },
  {
   "cell_type": "code",
   "execution_count": 13,
   "id": "e0819022",
   "metadata": {},
   "outputs": [],
   "source": [
    "snomed_ids = []\n",
    "hpo_ids = []\n",
    "hpo_names  = []\n",
    "# Iterate over all nodes\n",
    "for node_id, data in graph.nodes(data=True):\n",
    "    # Get xrefs\n",
    "    xrefs = data.get(\"xref\", [])\n",
    "    \n",
    "    # Normalize to list\n",
    "    if isinstance(xrefs, str):\n",
    "        xrefs = [xrefs]\n",
    "    \n",
    "    # Check for SNOMED mappings\n",
    "    for x in xrefs:\n",
    "        if x.startswith(\"SNOMEDCT\"):\n",
    "            hpo_ids.append(node_id)\n",
    "            snomed_ids.append(x.split(\":\")[-1])\n",
    "            hpo_names.append(data.get(\"name\", \"\"))\n",
    "\n",
    "df_snomed_mapping = pl.DataFrame({\n",
    "    \"hpo_id\": hpo_ids,\n",
    "    \"hpo_map_to_snomed_id\": snomed_ids,\n",
    "    \"hpo_name\": hpo_names\n",
    "})"
   ]
  },
  {
   "cell_type": "code",
   "execution_count": 21,
   "id": "637ae3d5",
   "metadata": {},
   "outputs": [],
   "source": [
    "pheno_disease_association = (df_snomed_mapping.join(df_hpoa, on=\"hpo_id\", how=\"left\")\n",
    " .select(\"hpo_id\", \"hpo_name\", \"hpo_map_to_snomed_id\", \"database_id\", \"disease_name\")\n",
    ".rename( {\"database_id\": \"disease_associated_id\", \"disease_name\": \"disease_associated_name\"}))"
   ]
  },
  {
   "cell_type": "code",
   "execution_count": null,
   "id": "5c9649c6",
   "metadata": {},
   "outputs": [],
   "source": [
    "pheno_gene_association = (df_snomed_mapping.join(df_genes, on=\"hpo_id\", how=\"left\")\n",
    " .select(\"hpo_id\", \"hpo_name\", \"hpo_map_to_snomed_id\", \"gene_symbol\")\n",
    " .rename( {\"gene_symbol\": \"gene_associated_symbol\"}))\n"
   ]
  },
  {
   "cell_type": "code",
   "execution_count": 28,
   "id": "dfa8fbb4",
   "metadata": {},
   "outputs": [],
   "source": [
    "pheno_disease_association.write_csv(\"docs/pheno_disease_association.csv\")\n",
    "pheno_gene_association.write_csv(\"docs/pheno_gene_association.csv\")\n"
   ]
  }
 ],
 "metadata": {
  "kernelspec": {
   "display_name": "Python 3",
   "language": "python",
   "name": "python3"
  },
  "language_info": {
   "codemirror_mode": {
    "name": "ipython",
    "version": 3
   },
   "file_extension": ".py",
   "mimetype": "text/x-python",
   "name": "python",
   "nbconvert_exporter": "python",
   "pygments_lexer": "ipython3",
   "version": "3.11.1"
  }
 },
 "nbformat": 4,
 "nbformat_minor": 5
}
